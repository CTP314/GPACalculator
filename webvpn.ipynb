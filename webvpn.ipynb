{
 "cells": [
  {
   "cell_type": "code",
   "execution_count": 69,
   "metadata": {},
   "outputs": [],
   "source": [
    "from selenium.webdriver.remote.webdriver import WebDriver as wd\n",
    "from selenium.webdriver.chrome.service import Service as ChromeService\n",
    "from webdriver_manager.chrome import ChromeDriverManager\n",
    "from selenium.webdriver.common.by import By\n",
    "from selenium.webdriver.common.keys import Keys\n",
    "from selenium.webdriver.support.ui import WebDriverWait as wdw\n",
    "from selenium.webdriver.support import expected_conditions as EC\n",
    "from selenium.webdriver.common.action_chains import ActionChains as AC\n",
    "import selenium\n",
    "from bs4 import BeautifulSoup as BS"
   ]
  },
  {
   "cell_type": "code",
   "execution_count": 70,
   "metadata": {},
   "outputs": [
    {
     "name": "stdout",
     "output_type": "stream",
     "text": [
      "\n"
     ]
    }
   ],
   "source": [
    "driver: wd = None\n",
    "d = driver\n",
    "if d is not None:\n",
    "    d.close()\n",
    "d = selenium.webdriver.Chrome(service=ChromeService(ChromeDriverManager().install()))\n",
    "d.get(\"https://webvpn.tsinghua.edu.cn/login\")"
   ]
  },
  {
   "cell_type": "code",
   "execution_count": 71,
   "metadata": {},
   "outputs": [],
   "source": [
    "username = d.find_elements(By.XPATH,\n",
    "                            '//div[@class=\"login-form-item\"]//input'\n",
    "                            )[0]\n",
    "password = d.find_elements(By.XPATH,\n",
    "                            '//div[@class=\"login-form-item password-field\" and not(@id=\"captcha-wrap\")]//input'\n",
    "                            )[0]\n",
    "username.send_keys(\"2021010804\")\n",
    "password.send_keys(\"Ctp_13E.%^&\")\n",
    "d.find_element(By.ID, \"login\").click()\n",
    "root_handle = d.current_window_handle"
   ]
  },
  {
   "cell_type": "code",
   "execution_count": 73,
   "metadata": {},
   "outputs": [],
   "source": [
    "url = By.ID, \"quick-access-input\"\n",
    "btn = By.ID, \"go\"\n",
    "wdw(d, 5).until(EC.visibility_of_element_located(url))\n",
    "actions = AC(d)\n",
    "actions.move_to_element(d.find_element(*url))\n",
    "actions.click()\n",
    "actions.\\\n",
    "    key_down(Keys.CONTROL).\\\n",
    "    send_keys(\"A\").\\\n",
    "    key_up(Keys.CONTROL).\\\n",
    "    send_keys(Keys.DELETE).\\\n",
    "    perform()\n",
    "\n",
    "d.find_element(*url)\n",
    "d.find_element(*url).send_keys(\"info.tsinghua.edu.cn\")\n",
    "d.find_element(*btn).click()"
   ]
  },
  {
   "cell_type": "code",
   "execution_count": 74,
   "metadata": {},
   "outputs": [],
   "source": [
    "assert len(d.window_handles) == 2\n",
    "wdw(d, 5).until(EC.number_of_windows_to_be(2))\n",
    "for window_handle in d.window_handles:\n",
    "    if window_handle != d.current_window_handle:\n",
    "        d.switch_to.window(window_handle)"
   ]
  },
  {
   "cell_type": "code",
   "execution_count": 75,
   "metadata": {},
   "outputs": [
    {
     "name": "stdout",
     "output_type": "stream",
     "text": [
      "QwQ\n"
     ]
    }
   ],
   "source": [
    "username_ = d.find_element(By.XPATH, '//*[@id=\"userName\"]')\n",
    "password_ = d.find_element(By.XPATH, '/html/body/table[2]/tbody/tr/td[3]/table/tbody/tr/td[5]/input')\n",
    "username_.send_keys(\"2021010804\")\n",
    "password_.send_keys(\"Ctp_13E.%^&\")\n",
    "d.find_element(By.XPATH, '/html/body/table[2]/tbody/tr/td[3]/table/tbody/tr/td[6]/input').click()"
   ]
  },
  {
   "cell_type": "code",
   "execution_count": 76,
   "metadata": {},
   "outputs": [],
   "source": [
    "d.find_element(By.XPATH, '//*[@id=\"menu\"]/li[2]/a[10]').click()"
   ]
  },
  {
   "cell_type": "code",
   "execution_count": 121,
   "metadata": {},
   "outputs": [],
   "source": [
    "assert len(d.window_handles) == 3\n",
    "wdw(d, 5).until(EC.number_of_windows_to_be(3))\n",
    "for window_handle in d.window_handles:\n",
    "    if window_handle != d.current_window_handle and window_handle != root_handle:\n",
    "        d.switch_to.window(window_handle)\n",
    "        break"
   ]
  },
  {
   "cell_type": "code",
   "execution_count": 122,
   "metadata": {},
   "outputs": [
    {
     "name": "stdout",
     "output_type": "stream",
     "text": [
      "['CDwindow-2102F168BFBA3DC9DC29FB83BF2ACFD8', 'CDwindow-6608187EDAE83A184C587BEA41C0F402', 'CDwindow-C5318628B21121854FFF912E814452B2']\n"
     ]
    }
   ],
   "source": [
    "print(d.window_handles)"
   ]
  },
  {
   "cell_type": "code",
   "execution_count": 123,
   "metadata": {},
   "outputs": [
    {
     "data": {
      "text/plain": [
       "('CDwindow-C5318628B21121854FFF912E814452B2',\n",
       " 'CDwindow-2102F168BFBA3DC9DC29FB83BF2ACFD8')"
      ]
     },
     "execution_count": 123,
     "metadata": {},
     "output_type": "execute_result"
    }
   ],
   "source": [
    "d.current_window_handle, root_handle"
   ]
  },
  {
   "cell_type": "code",
   "execution_count": 185,
   "metadata": {},
   "outputs": [
    {
     "data": {
      "text/plain": [
       "[{'id': '00690672',\n",
       "  'num': '90',\n",
       "  'name': '《庄子》导读',\n",
       "  'credit': '2',\n",
       "  'hours': '32',\n",
       "  'level': 'A',\n",
       "  'grade': '4.0',\n",
       "  'sub': '',\n",
       "  'attr': '限选',\n",
       "  'tag': '',\n",
       "  'term': '2021-2022-1',\n",
       "  'final': '20211115'},\n",
       " {'id': '10421055',\n",
       "  'num': '7',\n",
       "  'name': '微积分A(1)',\n",
       "  'credit': '5',\n",
       "  'hours': '80',\n",
       "  'level': 'A',\n",
       "  'grade': '4.0',\n",
       "  'sub': '',\n",
       "  'attr': '必修',\n",
       "  'tag': '',\n",
       "  'term': '2021-2022-1',\n",
       "  'final': '20220115'},\n",
       " {'id': '10680011',\n",
       "  'num': '95',\n",
       "  'name': '形势与政策',\n",
       "  'credit': '1',\n",
       "  'hours': '16',\n",
       "  'level': 'A-',\n",
       "  'grade': '4.0',\n",
       "  'sub': '',\n",
       "  'attr': '必修',\n",
       "  'tag': '',\n",
       "  'term': '2021-2022-1',\n",
       "  'final': '20220115'},\n",
       " {'id': '10680053',\n",
       "  'num': '16',\n",
       "  'name': '思想道德与法治',\n",
       "  'credit': '3',\n",
       "  'hours': '48',\n",
       "  'level': 'A-',\n",
       "  'grade': '4.0',\n",
       "  'sub': '',\n",
       "  'attr': '必修',\n",
       "  'tag': '',\n",
       "  'term': '2021-2022-1',\n",
       "  'final': '20220115'},\n",
       " {'id': '10720011',\n",
       "  'num': '9',\n",
       "  'name': '体育(1)',\n",
       "  'credit': '1',\n",
       "  'hours': '32',\n",
       "  'level': 'B',\n",
       "  'grade': '3.3',\n",
       "  'sub': '',\n",
       "  'attr': '必修',\n",
       "  'tag': '',\n",
       "  'term': '2021-2022-1',\n",
       "  'final': '20220115'},\n",
       " {'id': '12090052',\n",
       "  'num': '14',\n",
       "  'name': '军事理论',\n",
       "  'credit': '2',\n",
       "  'hours': '36',\n",
       "  'level': 'A',\n",
       "  'grade': '4.0',\n",
       "  'sub': '',\n",
       "  'attr': '必修',\n",
       "  'tag': '',\n",
       "  'term': '2021-2022-1',\n",
       "  'final': '20210930'},\n",
       " {'id': '14201112',\n",
       "  'num': '117',\n",
       "  'name': '英语听说交流（B）',\n",
       "  'credit': '2',\n",
       "  'hours': '32',\n",
       "  'level': 'B+',\n",
       "  'grade': '3.6',\n",
       "  'sub': '',\n",
       "  'attr': '必修',\n",
       "  'tag': '',\n",
       "  'term': '2021-2022-1',\n",
       "  'final': '20220115'},\n",
       " {'id': '20470044',\n",
       "  'num': '0',\n",
       "  'name': '线性代数',\n",
       "  'credit': '4',\n",
       "  'hours': '64',\n",
       "  'level': 'A-',\n",
       "  'grade': '4.0',\n",
       "  'sub': '',\n",
       "  'attr': '必修',\n",
       "  'tag': '',\n",
       "  'term': '2021-2022-1',\n",
       "  'final': '20220115'},\n",
       " {'id': '20470073',\n",
       "  'num': '0',\n",
       "  'name': '人工智能入门',\n",
       "  'credit': '3',\n",
       "  'hours': '48',\n",
       "  'level': 'A',\n",
       "  'grade': '4.0',\n",
       "  'sub': '',\n",
       "  'attr': '必修',\n",
       "  'tag': '',\n",
       "  'term': '2021-2022-1',\n",
       "  'final': '20220115'},\n",
       " {'id': '30470013',\n",
       "  'num': '0',\n",
       "  'name': '计算机入门',\n",
       "  'credit': '3',\n",
       "  'hours': '48',\n",
       "  'level': 'A',\n",
       "  'grade': '4.0',\n",
       "  'sub': '',\n",
       "  'attr': '限选',\n",
       "  'tag': '',\n",
       "  'term': '2021-2022-1',\n",
       "  'final': '20220115'},\n",
       " {'id': '10421065',\n",
       "  'num': '12',\n",
       "  'name': '微积分A(2)',\n",
       "  'credit': '5',\n",
       "  'hours': '80',\n",
       "  'level': 'A-',\n",
       "  'grade': '4.0',\n",
       "  'sub': '',\n",
       "  'attr': '必修',\n",
       "  'tag': '',\n",
       "  'term': '2021-2022-2',\n",
       "  'final': '20220615'},\n",
       " {'id': '10610193',\n",
       "  'num': '6',\n",
       "  'name': '中国近现代史纲要',\n",
       "  'credit': '3',\n",
       "  'hours': '48',\n",
       "  'level': 'A-',\n",
       "  'grade': '4.0',\n",
       "  'sub': '',\n",
       "  'attr': '必修',\n",
       "  'tag': '',\n",
       "  'term': '2021-2022-2',\n",
       "  'final': '20220615'},\n",
       " {'id': '10691342',\n",
       "  'num': '86',\n",
       "  'name': '写作与沟通',\n",
       "  'credit': '2',\n",
       "  'hours': '32',\n",
       "  'level': 'A',\n",
       "  'grade': '4.0',\n",
       "  'sub': '',\n",
       "  'attr': '必修',\n",
       "  'tag': '',\n",
       "  'term': '2021-2022-2',\n",
       "  'final': '20220615'},\n",
       " {'id': '10720021',\n",
       "  'num': '7',\n",
       "  'name': '体育(2)',\n",
       "  'credit': '1',\n",
       "  'hours': '32',\n",
       "  'level': 'P',\n",
       "  'grade': 'N/A',\n",
       "  'sub': '',\n",
       "  'attr': '必修',\n",
       "  'tag': '',\n",
       "  'term': '2021-2022-2',\n",
       "  'final': '20220615'},\n",
       " {'id': '20470024',\n",
       "  'num': '0',\n",
       "  'name': '普通物理（1）（英）',\n",
       "  'credit': '4',\n",
       "  'hours': '64',\n",
       "  'level': 'P',\n",
       "  'grade': 'N/A',\n",
       "  'sub': '',\n",
       "  'attr': '必修',\n",
       "  'tag': '',\n",
       "  'term': '2021-2022-2',\n",
       "  'final': '20220615'},\n",
       " {'id': '20470054',\n",
       "  'num': '0',\n",
       "  'name': '抽象代数',\n",
       "  'credit': '4',\n",
       "  'hours': '64',\n",
       "  'level': 'A',\n",
       "  'grade': '4.0',\n",
       "  'sub': '',\n",
       "  'attr': '必修',\n",
       "  'tag': '',\n",
       "  'term': '2021-2022-2',\n",
       "  'final': '20220615'},\n",
       " {'id': '30470023',\n",
       "  'num': '0',\n",
       "  'name': '计算机应用数学',\n",
       "  'credit': '3',\n",
       "  'hours': '48',\n",
       "  'level': 'B+',\n",
       "  'grade': '3.6',\n",
       "  'sub': '',\n",
       "  'attr': '限选',\n",
       "  'tag': '',\n",
       "  'term': '2021-2022-2',\n",
       "  'final': '20220615'},\n",
       " {'id': '30470293',\n",
       "  'num': '0',\n",
       "  'name': '人工智能应用数学',\n",
       "  'credit': '3',\n",
       "  'hours': '48',\n",
       "  'level': 'A-',\n",
       "  'grade': '4.0',\n",
       "  'sub': '',\n",
       "  'attr': '必修',\n",
       "  'tag': '',\n",
       "  'term': '2021-2022-2',\n",
       "  'final': '20220615'},\n",
       " {'id': '30470324',\n",
       "  'num': '0',\n",
       "  'name': '计算机系统概论',\n",
       "  'credit': '4',\n",
       "  'hours': '64',\n",
       "  'level': 'B+',\n",
       "  'grade': '3.6',\n",
       "  'sub': '',\n",
       "  'attr': '必修',\n",
       "  'tag': '',\n",
       "  'term': '2021-2022-2',\n",
       "  'final': '20220615'},\n",
       " {'id': '10690013',\n",
       "  'num': '0',\n",
       "  'name': '学术之道',\n",
       "  'credit': '3',\n",
       "  'hours': '48',\n",
       "  'level': 'W',\n",
       "  'grade': 'N/A',\n",
       "  'sub': '',\n",
       "  'attr': '必修',\n",
       "  'tag': '',\n",
       "  'term': '2021-2022-2',\n",
       "  'final': '20220413'}]"
      ]
     },
     "execution_count": 185,
     "metadata": {},
     "output_type": "execute_result"
    }
   ],
   "source": [
    "text = d.find_element(By.XPATH, '/html').get_attribute(\"innerHTML\")\n",
    "soup = BS(text, 'lxml')\n",
    "tbody = soup.find('table', class_=\"table table-striped table-condensed\").find('tbody')\n",
    "rows = tbody.find_all('tr')[1:-2]\n",
    "attrs = ['id', 'num', 'name', 'credit', 'hours', 'level', 'grade', 'sub', 'attr', 'tag', 'term', 'final']\n",
    "rec = []\n",
    "for row in rows:\n",
    "    cols = row.find_all('td')\n",
    "    cols = [ele.text.strip() for ele in cols]\n",
    "    item = dict()\n",
    "    for i in range(len(cols)):\n",
    "        item[attrs[i]] = cols[i]\n",
    "    rec.append(item)\n",
    "rec"
   ]
  },
  {
   "cell_type": "code",
   "execution_count": null,
   "metadata": {},
   "outputs": [],
   "source": []
  }
 ],
 "metadata": {
  "kernelspec": {
   "display_name": "Python 3.8.13 ('summer2')",
   "language": "python",
   "name": "python3"
  },
  "language_info": {
   "codemirror_mode": {
    "name": "ipython",
    "version": 3
   },
   "file_extension": ".py",
   "mimetype": "text/x-python",
   "name": "python",
   "nbconvert_exporter": "python",
   "pygments_lexer": "ipython3",
   "version": "3.8.13"
  },
  "orig_nbformat": 4,
  "vscode": {
   "interpreter": {
    "hash": "e6e72883ec600da63bd90c847eec34f595174c0aab6e2ae2197b3ae1cd5436bc"
   }
  }
 },
 "nbformat": 4,
 "nbformat_minor": 2
}
